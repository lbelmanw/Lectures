{
 "cells": [
  {
   "cell_type": "code",
   "execution_count": 39,
   "metadata": {},
   "outputs": [],
   "source": [
    "%matplotlib inline\n",
    "import numpy as np\n",
    "from scipy.integrate import odeint\n",
    "import rf2 as rf\n",
    "import matplotlib.pyplot as plt\n",
    "from scipy.linalg import eigh"
   ]
  },
  {
   "cell_type": "code",
   "execution_count": 40,
   "metadata": {},
   "outputs": [],
   "source": [
    "class QM(object):\n",
    "    def __init__(self,E, npoints, x_start, x_end = 0, u0 = 0.0, v0 = 0.01):\n",
    "        self.E = E\n",
    "        self.npoints = npoints\n",
    "        self.uv0 = np.array([u0, v0]) # NumPy array with initial position and velocity\n",
    "       \n",
    "        # always want to start at furthest point and go to zero\n",
    "        self.xarray = np.linspace(x_start, x_end, npoints, endpoint = True) # include final timepoint\n",
    "\n",
    "    def scipy_trajectory(self):\n",
    "        \"\"\"calculate trajectory using SciPy ode integrator\"\"\"\n",
    "        self.uv = odeint(self.sch, self.uv0, self.xarray)\n",
    "        self.uv_end = self.uv[-1]\n",
    "\n",
    "\n",
    "    def sch(self, uv, x):\n",
    "    \n",
    "        \"\"\"right hand side of the differential equation\"\"\"\n",
    "        u = uv[1]\n",
    "        v = 2*(self.Potential(x) - self.E)*uv[0]\n",
    "        return np.ravel(np.array([u, v]))\n",
    "\n",
    "    def Potential(self, x):\n",
    "        # finite square well potential\n",
    "        a = 10**(-11) # width of well\n",
    "        V0 = 50 # depth of well\n",
    "        if (abs(x) > a/2.):\n",
    "            return 0\n",
    "        else :\n",
    "            return -V0 "
   ]
  },
  {
   "cell_type": "code",
   "execution_count": 41,
   "metadata": {},
   "outputs": [],
   "source": [
    "def match2(E):\n",
    "    p_up = QM(E = En, npoints = 1000, x_start = -10*a)\n",
    "    p_down = QM(E = En, npoints = 1000, x_start = 10*a)\n",
    "    \n",
    "    p_up.scipy_trajectory()\n",
    "    p_down.scipy_trajectory()\n",
    "    \n",
    "    return (p_up.uv_end[0]*p_down.uv_end[1]) - (p_up.uv_end[1]*p_down.uv_end[0])\n",
    "\n",
    "def match(En):\n",
    "    #a = 1.0e-11\n",
    "    p_up = QM(E = En, npoints = 1000, x_start = -10)\n",
    "    p_down = QM(E = En, npoints = 1000, x_start = 10)\n",
    "    p_up.scipy_trajectory()\n",
    "    p_down.scipy_trajectory()\n",
    "\n",
    "    return p_down.uv_end[0]*p_up.uv_end[1] - p_down.uv_end[1]*p_up.uv_end[0]"
   ]
  },
  {
   "cell_type": "code",
   "execution_count": 42,
   "metadata": {},
   "outputs": [
    {
     "name": "stdout",
     "output_type": "stream",
     "text": [
      "0.012337007521206195\n",
      "0.04934803962569839\n",
      "0.11103304862838392\n",
      "0.19739216804366716\n",
      "0.3084253597245754\n",
      "0.4441334819779935\n",
      "0.604515237806851\n",
      "0.7895694446549959\n",
      "0.99929671287399\n",
      "1.2336964321122716\n"
     ]
    },
    {
     "data": {
      "text/plain": [
       "(-1.5e-10, 1.5e-10)"
      ]
     },
     "execution_count": 42,
     "metadata": {},
     "output_type": "execute_result"
    },
    {
     "data": {
      "image/png": "[encoded data removed]",
      "text/plain": [
       "<Figure size 432x288 with 1 Axes>"
      ]
     },
     "metadata": {
      "needs_background": "light"
     },
     "output_type": "display_data"
    }
   ],
   "source": [
    "En = -50.0\n",
    "dE = 0.01\n",
    "E_states = []\n",
    "a = 10**(-11)\n",
    "y = 0\n",
    "\n",
    "while(len(E_states) < 10):\n",
    "    if(match(En)*match(En+dE) < 0):\n",
    "        E = rf.bisect(match, En, En+dE)\n",
    "        E_states.append(E)\n",
    "        print(E)\n",
    "        \n",
    "        \n",
    "        dx = a/100\n",
    "        p_up = QM(E = E, npoints = 1000+4, x_start = -10*a, x_end = a/25)\n",
    "        p_down = QM(E = E, npoints = 1000-4, x_start = 10*a, x_end = a/25)\n",
    "        \n",
    "        p_up.scipy_trajectory()\n",
    "        p_down.scipy_trajectory()\n",
    "        \n",
    "        c = p_up.uv_end[0]/p_down.uv_end[0]\n",
    "        \n",
    "        p = np.concatenate((p_up.uv[:-1,0], scale*p_down.uv[::-1,0]))\n",
    "        x = np.linspace(-10*a, 10*a, 2000-1, endpoint = True)\n",
    "        plt.plot(x, p/max(p))\n",
    "        \n",
    "    y += 1\n",
    "    En = En + dE\n",
    "plt.plot(xa, np.vectorize(p_up.Potential)(xa)/10., color = 'k', lw =2)\n",
    "plt.xlim(-15*a,15*a)"
   ]
  },
  {
   "cell_type": "code",
   "execution_count": null,
   "metadata": {},
   "outputs": [],
   "source": []
  }
 ],
 "metadata": {
  "kernelspec": {
   "display_name": "Python 3",
   "language": "python",
   "name": "python3"
  },
  "language_info": {
   "codemirror_mode": {
    "name": "ipython",
    "version": 3
   },
   "file_extension": ".py",
   "mimetype": "text/x-python",
   "name": "python",
   "nbconvert_exporter": "python",
   "pygments_lexer": "ipython3",
   "version": "3.6.7"
  }
 },
 "nbformat": 4,
 "nbformat_minor": 2
}
