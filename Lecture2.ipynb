{
 "cells": [
  {
   "cell_type": "markdown",
   "metadata": {},
   "source": [
    "# Lecture 2, Solving ODE's\n",
    "\n",
    "There are a number of question marks \"?\" throughout the markdown section of this notebook. You are responsible for filling those sections in. \n",
    "\n",
    "**MORE TESTS**\n",
    "**Overview:**\n",
    "* Solving initial value problems, a simple example\n",
    "* Survey of methods.\n",
    "* Errors and numerical stability\n",
    "    * Reading: Newman chapter 4.\n",
    "\n",
    "**Next Lecture:** Solving systems of coupled ODE's and Newtons 2nd law.\n",
    "\n",
    "---"
   ]
  },
  {
   "cell_type": "markdown",
   "metadata": {},
   "source": [
    "## Simple Example, an RC circuit. \n",
    "We have a simple RC circuit, as shown below. After a long charge with the switch in position 1 it is flipped to position 2. What is the time dependence of the charge across $C$?\n",
    "\n",
    "![RC circuit](./figs/Lecture2_circuit.png)\n",
    "\n",
    "\n",
    "\n",
    "\n",
    "\n",
    "\n",
    "\n",
    "\n",
    "\n"
   ]
  },
  {
   "cell_type": "markdown",
   "metadata": {},
   "source": [
    "Using Kirchoff's laws, determine the 1st order ODE we need to solve for $Q(t)$:\n",
    "\n",
    "$$\\frac{dQ}{dt} = (\\frac{-1}{RC})*Q $$\n",
    "\n",
    "What is the closed form solution of this equation:\n",
    "$$ Q(t) = Q0*np.exp(\\frac{-t}/{RC})) $$"
   ]
  },
  {
   "cell_type": "markdown",
   "metadata": {},
   "source": [
    "In this case the problem was easy to solve. However, there are many cases of such problems, formulated as ordinary differential equations, where the solution is not so easy (or even impossible) to find. So how might we approximate the solution to this problem and solve numerically?\n",
    "\n",
    "An obvious thing to try is to Taylor expand $Q(t)$ for small $\\Delta t$ around $t=0$\n",
    "\n",
    "$$ Q(\\Delta t) = Q(0) + \\frac{dQ}{dt}\\Delta t + \\frac{1}{2}\\frac{d^2Q}{dt^2}(\\Delta t)^2 + \\dots $$\n",
    "\n",
    "If $\\Delta t$ is very small, then it is usually a good approximation to ignore terms that involve second and higher powers of $\\Delta t$\n",
    "\n",
    "$$ Q(\\Delta t) \\approx Q(0) + \\frac{dQ}{dt}\\Delta t$$\n",
    "\n",
    "and we know the functional form of the derivative. It is given by the original ODE! We now have:\n",
    "\n",
    "$$ Q(t + \\Delta t) \\approx Q(t) - ?? \\Delta t $$\n",
    "\n",
    "This is the general strategy for solving ODE's on a computer. By Taylor expanding we have taken a problem defined on a continuous variable $t$, and transformed it to an approximate problem defined on a discrete variable $\\Delta t$. This is always necessary since computers only operate on discrete quantities.\n",
    "\n",
    "---"
   ]
  },
  {
   "cell_type": "markdown",
   "metadata": {},
   "source": [
    "## Methods for ODE's\n",
    "\n",
    "To understand our approximate methods, we work with a single ordinary differential equation.\n",
    "$$\\frac{dx}{dt}=g(x,t)$$\n",
    "where $x(t)$ is the solution we seek and $g(x,t)$ is a well-behaved but otherwise arbitrary function.\n",
    "\n",
    "If we know $x(t)$ we could determine $g(t+\\Delta t)$ from the Taylor series:\n",
    "$$x(t+\\Delta t) = x(t) + \\frac{dx}{dt}\\Delta t + \\frac{d^2x}{dt^2}\\frac{(\\Delta t)^2}{2!} + \\frac{d^3x}{dt^3}\\frac{\\Delta t^2}{3!} + \\dots$$\n",
    "\n",
    "## Euler's method\n",
    "\n",
    "$$x(t_{n+1}) = x(t_{n}) + g(x_n,t_n)\\Delta t +O[(\\Delta t)^2].$$\n",
    "\n",
    "where $x_n$ is the the value of our solution at time point $t_n$ and discrete step $n$."
   ]
  },
  {
   "cell_type": "markdown",
   "metadata": {},
   "source": [
    "## Improved accuracy: Runge-Kutta methods\n",
    "\n",
    "### RK2:\n",
    "\n",
    "$$\n",
    "\\begin{align}\n",
    "k_1 &= \\Delta t g(x_n, t_n)\\\\\n",
    "k_2 &= \\Delta t g(x_n+1/2k_1, t_n+\\Delta t/2)\\\\\n",
    "x(t_{n+1}) &= x(t_n) + k_2\n",
    "\\end{align}\n",
    "$$\n",
    "\n",
    "\n",
    "### RK4:\n",
    "\n",
    "$$\n",
    "\\begin{align}\n",
    "k_1 &= \\Delta t g(x_n, t_n)\\\\\n",
    "k_2 &= \\Delta t g(x_n+1/2k_1, t_n+\\Delta t/2)\\\\\n",
    "k_3 &= \\Delta t g(x_n+1/2k_2, t_n+\\Delta t/2)\\\\\n",
    "k_4 &= \\Delta t g(x_n+k_3, t_n+\\Delta t)\\\\\n",
    "x(t_{n+1}) &= x(t_n) + \\frac{1}{6}(k_1+2k_2+2k_3+k_4)\n",
    "\\end{align}\n",
    "$$"
   ]
  },
  {
   "cell_type": "markdown",
   "metadata": {},
   "source": [
    "***\n",
    "## Pseudocode (for all methods):\n",
    "### Initialization\n",
    "* Assign initial values and constants: $x\\left(0\\right)$, $\\Delta t$, any constants in $g(x,t)$.\n",
    "* Set the number of time steps and the initial value of time.\n",
    "\n",
    "### Calculation\n",
    "* At time step $x_i$, calculate $x_{i+1}$ and $t_{i+1}$ at step $i+1$.\n",
    "* Increase to $t_i$ to the next time step $t_{i+1} = t_i + \\Delta t$.\n",
    "* repeat for $n-1$ time steps.\n",
    "\n",
    "### Analysis\n",
    "* store the values for $x_i$ and $t_i$ in a file. \n",
    "* plot results or use in subsequent calculation.\n",
    "\n",
    "***"
   ]
  },
  {
   "cell_type": "markdown",
   "metadata": {},
   "source": [
    "# Exercise\n",
    "\n",
    "1. Define a function for the exact solution of our simple RC circuit, $Q(t)$. This will be used to test the accuracy of our numerical methods. \n",
    "\n",
    "2. Define another function to find the solution of our differential equation numerically using an RK2 method.\n",
    "\n",
    "3. Using the functions in 1 and 2, plot the exact and approximate solutions over-top of each other for the range of time from $t$ = 0 to 10, and using the parameters: $R=1$, $C=1$, $Q_0=1$, and $\\Delta t$ = 0.1 .\n",
    "\n",
    "4. Finally, create a function to calculate and then plot the total cumulative error of our approximation as a function of the step size $\\Delta t$ from $\\Delta t$ = 0.001 to 10 over a time from $t$ = 0 to 10. How does this plot change with increasing final time?\n",
    "\n",
    "\n",
    "\n",
    "**You will find some starter code in the cells below**\n"
   ]
  },
  {
   "cell_type": "code",
   "execution_count": 1,
   "metadata": {},
   "outputs": [],
   "source": [
    "# it is good practice to include all import statements in the first code cell at the top of your workbook or script.\n",
    "import numpy as np\n",
    "import matplotlib.pyplot as plt\n",
    "\n",
    "# this is a so called \"magic\" function that allows for interactive plotting, \n",
    "# you will see below when we plot the results\n",
    "%matplotlib inline"
   ]
  },
  {
   "cell_type": "code",
   "execution_count": 2,
   "metadata": {},
   "outputs": [],
   "source": [
    "#  Modify this function to output the exact solution for Q(t) from above\n",
    "# Q0 and t0 are the initial charge and time\n",
    "\n",
    "# Note the default argument for t0 = 0. Using this means we only have to pass a value for t0 to the function\n",
    "# if we want something different from 0\n",
    "\n",
    "def exact(t, R, C, Q0, t0 =0.0):\n",
    "    # !!!!!!!!!!!!!!!!!!!!!!!!!!!!!!!! exact solution here  !!!!!!!!!!!!!!!!!!!!!!!!!!!!!\n",
    "    Q = Q0*np.exp(-t/(RC))\n",
    "    return Q"
   ]
  },
  {
   "cell_type": "code",
   "execution_count": 3,
   "metadata": {},
   "outputs": [],
   "source": [
    "# Modify this function to implement an RK2 method for our RC circuit ODE\n",
    "\n",
    "# note the template here is for one way to do this, and not necessarily the best way.\n",
    "# I encourage you to try and think of a better and more general way to write this Euler method function.\n",
    "\n",
    "def approx_rk2(dt, t_final, R, C, Q0, t0=0.0):\n",
    "    \n",
    "    #initialize some empty lists to store our data and time steps\n",
    "    Q_list = []\n",
    "    t_list = []\n",
    "    \n",
    "    # number of time steps, nust be an integer\n",
    "    n  = int(t_final/dt) \n",
    "    \n",
    "    # the main loop over all time steps\n",
    "    for ii in range(n):\n",
    "        if ii == 0.0:\n",
    "            # set initial conditions at time zero\n",
    "            Q = Q0\n",
    "            t = t0\n",
    "        else :\n",
    "            # !!!!!!!!!!!!!!!!!!!!!!   RK2 method here  !!!!!!!!!!!!!!!!!!!!!!!!!!!!!!!!\n",
    "            \n",
    "            k1 = dt*((-1/(R*C))*Q)\n",
    "            k2 = dt*((-1/R*C)*(Q+(.5*k1)))\n",
    "            \n",
    "            # update value of Q at each time step and step time by dt\n",
    "            Q+=k2\n",
    "            t+=dt\n",
    "            \n",
    "            \n",
    "        # use append to add on to the end of a list\n",
    "        Q_list.append(Q)\n",
    "        t_list.append(t)\n",
    "    \n",
    "    # we turn the lists into numpy arrays before returning\n",
    "    \n",
    "    Q_list = np.array(Q_list)\n",
    "    t_list = np.array(t_list)\n",
    "    \n",
    "    return t_list, Q_list"
   ]
  },
  {
   "cell_type": "code",
   "execution_count": 4,
   "metadata": {},
   "outputs": [],
   "source": [
    "# Define our constants\n",
    "Q0, t0 = 10, 0.0\n",
    "t_final, dt = 10, 1\n",
    "R, C = 1, 1 \n",
    "\n",
    "#create an array with 1000 equally spaced points spanning t0 to _final to pass to our exact expression\n",
    "t = np.linspace(t0,t_final,1000) \n",
    "\n",
    "# Calculate the exact solution\n",
    "Q_exact = Q0*np.exp(-t/(R*C))\n",
    "\n",
    "\n",
    "#Call our  approximate function, this returns function values and time points \n",
    "t_approx, Q_approx = approx_rk2(dt, t_final, R, C, Q0, t0)"
   ]
  },
  {
   "cell_type": "code",
   "execution_count": 5,
   "metadata": {},
   "outputs": [
    {
     "data": {
      "text/plain": [
       "Text(0,0.5,'Capacitor charge (Coulomb)')"
      ]
     },
     "execution_count": 5,
     "metadata": {},
     "output_type": "execute_result"
    },
    {
     "data": {
      "image/png": "iVBORw0KGgoAAAANSUhEUgAAAYIAAAEKCAYAAAAfGVI8AAAABHNCSVQICAgIfAhkiAAAAAlwSFlzAAALEgAACxIB0t1+/AAAADl0RVh0U29mdHdhcmUAbWF0cGxvdGxpYiB2ZXJzaW9uIDIuMi4zLCBodHRwOi8vbWF0cGxvdGxpYi5vcmcvIxREBQAAIABJREFUeJzt3XecVOX1+PHPmZntlYWll6Uuva5IUQRRBKwpJjEGC35FNIkazU9NvolGY4yJJcaYaLBh7CXytXcpNpQuIFXqUpe6ja1zfn/cWRhhdxl2p+zOnPfrdV8zc+fOc8+suGfv8zz3PKKqGGOMiV2uSAdgjDEmsiwRGGNMjLNEYIwxMc4SgTHGxDhLBMYYE+MsERhjTIyzRGCMMTHOEoExxsQ4SwTGGBPjPJEOIBCtWrXSnJycSIdhjDHNyqJFi/aoavbxjmsWiSAnJ4eFCxdGOgxjjGlWRGRzIMdZ15AxxsQ4SwTGGBPjLBEYY0yMaxZjBMaYpqeyspL8/HzKysoiHUrMS0xMpGPHjsTFxTXo85YIjDENkp+fT1paGjk5OYhIpMOJWarK3r17yc/Pp2vXrg1qI2RdQyLyhIjsFpEVfvuyROQDEVnne2wRqvMbY0KrrKyMli1bWhKIMBGhZcuWjboyC+UYwUxg4lH7bgE+UtWewEe+18aYZsqSQNPQ2P8OIUsEqjoP2HfU7vOBp3zPnwIuCNX5ARa88ShfvnRPKE9hjDHNXrhnDbVR1R0AvsfWdR0oItNEZKGILCwoKGjQyWT1G/RY9U/wehsWrTEmZs2ZM4fPP/880mGERZOdPqqqM1Q1T1XzsrOPe4d0rXa1O52Wup/KrXZXsjHmxFgiCJ1dItIOwPe4O6Rn63kmVeqiaOlrIT2NMSZynnnmGYYPH87gwYO56qqr2Lx5Mz179mTPnj14vV5OPfVU3n//fQAuuOAChg0bRr9+/ZgxY8bhNt59912GDh3KoEGDGD9+PJs2beKRRx7hb3/7G4MHD+aTTz6J1NcLi3BPH30duBS42/cY0t/QXTp25Ctvbwasfxf4UyhPZUxMu/2NlXyzvTCobfZtn85t5/ar95hVq1bx4osv8tlnnxEXF8c111zD3Llzufnmm5k+fTonn3wyffv2ZcKECQA88cQTZGVlcejQIU466SR+8IMf4PV6ufLKK5k3bx5du3Zl3759ZGVlMX36dFJTU/n1r38d1O/VFIUsEYjI88BYoJWI5AO34SSAl0TkCmALcGGozg/QLTuFe7zDGFX0NOz9Flp2D+XpjDFh9tFHH7Fo0SJOOukkAA4dOkTr1q35wx/+wMsvv8wjjzzC0qVLDx//4IMPMmvWLAC2bt3KunXrKCgoYMyYMYfn4GdlZYX/i0RYyBKBql5Ux1vjQ3XOoyXHe1iROhrKn4Y178CoX4Tr1MbElOP95R4qqsqll17Kn//85+/sLy0tJT8/H4Di4mLS0tKYM2cOH374IV988QXJycmMHTuWsrIyVDXmp8E22cHiYElp252N7hxY83akQzHGBNn48eN55ZVX2L3bGW7ct28fmzdv5uabb+biiy/mjjvu4MorrwTg4MGDtGjRguTkZFavXs38+fMBGDlyJHPnzmXjxo2H2wBIS0ujqKgoAt8q/KI+EfTITuWdyiHoli+gZG+kwzHGBFHfvn258847mTBhAgMHDuTMM89k06ZNLFiw4HAyiI+P58knn2TixIlUVVUxcOBAfv/73zNixAgAsrOzmTFjBt///vcZNGgQP/7xjwE499xzmTVrVkwMFouqRjqG48rLy9OGLkzzwldbeHbWa7yR8Du44GEY/NMgR2dMbFq1ahV9+vSJdBjGp7b/HiKySFXzjvfZ6L8iaJ3Kcu1KWVIbWP1WpMMxxpgmJyYSAQjfZo2Bbz+GSiuZa4wx/qI+EWQmx9MqNYEvPCdDZSlsnBvpkIwxpkmJ+kQA0KN1Cu+X9oT4NOseMsaYo8RIIkhlVUE52mM8rH3XitAZY4yfmEgEPVunUVRWRWGXM6F4F2xbFOmQjDGmyYiJROAMGMPq1JEgblhj3UPGmOB5/fXXufvuu4PS1gMPPEBpaWlQ2gpUTCWCNYVuyBntlJswxphaVFVVnfBnzjvvPG65JTgLLloiCJHWaQmkJ3pYu6sIcs+GgtVOETpjTLNXW2np1NRUbrzxRoYOHcr48eOpWdxq7NixXH/99YwaNYr+/fvz1VdfAfCHP/yBadOmMWHCBC655BLKysq4/PLLGTBgAEOGDGH27NkA3H///UydOhWA5cuX079/f0pLS5k5cya/+IVTy+yyyy7j6quvZty4cXTr1o25c+cydepU+vTpw2WXXXY47quvvpq8vDz69evHbbfdBjhF8bZv3864ceMYN24cAO+//z4jR45k6NChXHjhhRQXFwf9ZxjuMtQRISLktk1jzc4iOG0SvHuzU3to1C8jHZox0eGdW2Dn8uC22XYATDp+d0ttpaVLSkoYOnQo9913H3fccQe33347Dz30EAAlJSV8/vnnzJs3j6lTp7JixQoAFi1axKeffkpSUhL33Xcf4PyyX716NRMmTGDt2rVcf/31jB07llmzZvGnP/2Jf//73yQnJx8T0/79+/n44495/fXXOffcc/nss8947LHHOOmkk1i6dCmDBw/mT3/6E1lZWVRXVzN+/Hi+/vprrr32Wu6//35mz55Nq1at2LNnD3feeScffvghKSkp/OUvf+H+++/n1ltvDeIPOkauCABy26axemcRmtkZ2vSH1VaEzpho8OCDDzJo0CBGjBhxuLS0y+U6XDPoZz/7GZ9++unh4y+6yCmMPGbMGAoLCzlw4ADgdO8kJSUB8OmnnzJlyhQAevfuTZcuXVi7di0ul4uZM2cyZcoUTjvtNEaPHl1rTOeeey4iwoABA2jTpg0DBgzA5XLRr18/Nm3aBMBLL73E0KFDGTJkCCtXruSbb745pp358+fzzTffMHr0aAYPHsxTTz3F5s2bg/OD8xMTVwQAuW3TKSrbwo6DZbTPnQyf3OsUoUtpGenQjGn+AvjLPRTqKi19NP8y00eXnK55nZKScnhffTXY1q1bR2pqKtu3b6/zmISEBABcLtfh5zWvq6qq2LhxI/feey8LFiygRYsWXHbZZbXGraqceeaZPP/883WeKxhi5oqgd9s0AKd7qPdkUK9zT4Exptmqq7S01+vllVdeAeC5557jlFNOOfyZF198EXD+6s/IyCAjI+OYdseMGcOzzz4LwNq1a9myZQu5ubkcPHiQ6667jnnz5rF3797D5zhRhYWFpKSkkJGRwa5du3jnnSMTWPzLX48YMYLPPvuM9evXA846C2vXrm3QOesTM1cEvdo4iWD1ziLG5Q6G9A7OOMGQiyMcmTGmoSZOnMgjjzzCwIEDyc3NPVxaOiUlhZUrVzJs2DAyMjIO//IHaNGiBaNGjaKwsJAnnnii1navueYapk+fzoABA/B4PMycOZOEhASuvvpqrrnmGnr16sXjjz/OuHHjGDNmzAnHPWjQIIYMGUK/fv3o1q3bd7qYpk2bxqRJk2jXrh2zZ89m5syZXHTRRZSXlwNw55130qtXrxM+Z32ivgy1v1F//oiTumbx958MgbduhKXPwU0bIC4pCFEaE1uachnq1NTUWmfXjB07lnvvvZe8vONWZm52rAx1gA7PHALIneQUodtgReiMMbEtxhJBOt8WFFNZ7YWcU50idHaXsTFRp6659nPmzInKq4HGiqlE0LttGpXVyoaCEvAkQM8zYI0VoTOmoZpD13IsaOx/h5hKBLltawaMC307zoaS3bCt8eMPxsSaxMRE9u7da8kgwlSVvXv3kpiY2OA2YmbWEED37FQ8LjkyTtDzTHB5nNlDnYZHNjhjmpmOHTuSn59/uHyDiZzExEQ6duzY4M/HVCKI97jonp16JBEkZUKX0c5dxmf8IZKhGdPsxMXF0bVr10iHYYIgprqG4EipiSM7JsOeNVaEzhgTs46bCEQkT0R+JSL3iMgdIvIjEckKR3ChkNs2jW0HDlFYVuns6D3ZebQlLI0xMarORCAil4nIYuA3QBKwBtgNnAJ8ICJPiUjn8IQZPDWlJtbWXBVkdoY2A5xxAmOMiUH1jRGkAKNV9VBtb4rIYKAnsCUUgYVKn3bpAHyzo5C8HN+FTe/JMO8eKNkDKa0iGJ0xxoRfnVcEqvrPupKA7/2lqvpRaMIKnXYZiWSlxLNyW+GRnbk1Rejei1xgxhgTIYGMEXQTkTdEZI+I7BaR10SkWziCCwURoV/7dFZsP3hkZ7tBR4rQGWNMjAlk1tBzwEtAW6A98DLQqOLYvsHnlSKyQkSeF5GG3wnRAH3bp7N2VxEVVd6agJzaQ99+DJV1XgQZY0xUCiQRiKo+rapVvu0ZoMG3EopIB+BaIE9V+wNu4CcNba8h+rfPoLJanTWMa+RO9hWhmxPOUIwxJuLqmzWU5ZsmOltEbhGRHBHpIiI3AY2da+kBkkTEAyQDdS/1EwL92vsGjLf7jRPknAoJ6TaN1BgTc+qbNbQI5y//mnXdrvJ7T4E/NuSEqrpNRO7FmW10CHhfVd9vSFsNldMyhZR4Nyu3HwQ6OTs98dDjDGfVMq8XXDF3r50xJkbVN2uoq6p28z0evTV4sFhEWgDnA11xxhxSRORntRw3TUQWisjCYNcycbmEvu3TWeF/RQDQ+2woKbAidMaYmBLIrCG3iJwnIteKyA01WyPOeQawUVULVLUSeBUYdfRBqjpDVfNUNS87O7sRp6tdv/YZrNpRSLXXb7ijxxlOETrrHjLGxJBA+j/eAC4DWgJpfltDbQFGiEiyiAgwHljViPYapF/7dEorqtm0t+TIzpoidDaN1BgTQwKpPtpRVQcG64Sq+qWIvAIsBqqAJcCMYLUfqH7tMwBYse0g3bNTj7zR+2x45ybYsx5a9Qh3WMYYE3aBXBG8IyITgnlSVb1NVXuran9VnaKq5cFsPxA926QS73Z9d+YQOPcTgC1haYyJGYEkgvnALBE5JCKFIlIkIoXH/VQTF+d2kds2jZVHJ4LMztB2AKx5JzKBGWNMmAWSCO4DRgLJqpquqmmqmh7iuMKiptTEMUvt5Z4NW790itAZY0yUCyQRrANWaBQuTNq/QwYHSivJ339UWYncSb4idO9GJjBjjAmjQAaLdwBzROQd4HBfvqreH7KowmRwp0wAluUfoFNW8pE32g2C9I7OEpZDjrnFwRhjokogVwQbgY+AeIIzfbTJyG2bRrzHxbKtB777hn8RuorSyARnjDFhctwrAlW9HUBE0pyXWhzyqMIkzu2if/t0lm09eOybvSfDgkedInQ1y1kaY0wUCuTO4v4isgRYAawUkUUi0i/0oYXHoE6ZLN92kKpq73ff6HKKU4TObi4zxkS5QLqGZgA3qGoXVe0C3Ag8Gtqwwmdwp0wOVVazbvdRFzqeeOh5pq8IXXVkgjPGmDAIJBGkqOrsmheqOgdnPeOoMKijb8D46HECcNYoKCmAfCtCZ4yJXoEkgg0i8nvfegQ5IvI7nAHkqNClZTIZSXEsy68lEdQUobO7jI0xUSyQRDAVyMapEjrL9/zyUAYVTiLCoE6ZLK1twDgpE3JOcaaRGmNMlDpuIlDV/ap6raoOVdUhqnqdqu4PR3DhMrhjBmt3FVFaUXXsm7lnw951sGdd+AMzxpgwqHP6qIi8QT1rE6vqeSGJKAIGdcqk2qus3F7ISTlZ330zdxK88/+c2UOtrotMgMYYE0L13Udwb9iiiLCBfgPGxySCzE7QdqDTPTTaEoExJvrUmQhUdW44A4mk7LQEOmQmsaS2mUPgzB6a+xcoLoDU4K+WZowxkRTIDWUbRWTD0Vs4ggunwZ0zWbK5jqGP3pMBtSJ0xpioFMisoTzgJN92KvAg8Ewog4qEvC4t2H6wjO0HDh37ZtuBkNHJ7jI2xkSlQGYN7fXbtqnqA8DpYYgtrPK6OGMDC2u7KjhchG62FaEzxkSdQLqGhvpteSIynSipPuqvT7s0kuPdLNq0r/YDcidD1SGnCJ0xxkSRQNYjuM/veRWwCfhRSKKJII/bxeBOmbVfEYBzY1lChnOXsVUjNcZEkUDKUI8LRyBNQV6XFjw0ez3F5VWkJhz1o3HHQc8zYI2vCJ3LHZkgjTEmyALpGsoQkftFZKFvu09EMsIRXLgNy8nCq7B0Sz3TSEv3QP6C8AZmjDEhFMisoSeAIpzuoB8BhcCToQwqUoZ2zsQlsHBzHeMEPc8EVxystiJ0xpjoEUgi6K6qt6nqBt92O9At1IFFQlpiHLlt01lU1zhBYoYzVrDmnfAGZowxIRRIIjgkIqfUvBCR0UAtk+2jQ16XFizevP/YFctq9LYidMaY6BJIIpgO/FNENonIJuAh376olJfTgpKKalbvLKr9gF4TnUfrHjLGRIlAbihbpqqDgIHAQF8p6mWhDy0yhnVpAVB391BNETq7y9gYEyXqTAQicoOIXFHzWlULVbVQRH4pIteHJ7zw65CZRIfMJL7cuLfug3qfDVu/guLd4QvMGGNCpL4rgqnA07Xsn+F7LyqJCCd3y2L+hn2o1rEcQ64VoTPGRI/6EoGqakUtO8sBCV1IkTeyW0v2lVSwdldx7Qe0HQAZnW32kDEmKtQ7RiAibQLZF21GdGsJwBff7qn9ACtCZ4yJIvUlgnuAt0TkNBFJ821jgTdo5OplIpIpIq+IyGoRWSUiIxvTXrB1ykqmY4skvthQzzhB7iRfEbrZ4QvMGGNCoL4Vyv4jIgXAHUB/nPWLVwK3qWpj+0T+Dryrqj8UkXgguZHtBd3Ibi35YNUuvF7F5aqlJ6ymCN3qt53BY2OMaabq7RpS1XdU9TRVbamqrXzPG5UERCQdGAM87jtHharWUdwnckZ0a8mB0sq67ydwxzklJ9b6itAZY0wzVd/00d+JSFY9758uIuc04JzdgALgSRFZIiKPiUhKLe1Pqyl0V1BQ0IDTNM7I7r5xgvq6h3r7itBt/SpMURljTPDVd0WwHHhDRD4SkXtE5CYRuVVEnhaR5cC5wJcNOKcHGAo8rKpDgBLglqMPUtUZqpqnqnnZ2eFfML59ZhJdWiYzv75E0MNXhM5uLjPGNGN1JgJVfU1VR+OUk1gJuHEqjz4DDFfVX6lqQ/5UzwfyVbUmibyCkxianBFdW/Llhr1Ue+u4nyAxHbqeaonAGNOsBVJiYp2qzlTVP6vqA6r6nqo2uOicqu4EtopIrm/XeOCbhrYXSiO7t6SwrIpVOwrrPih3MuxdDwVrwxeYMcYEUSBF50Lhl8CzIvI1MBi4K0Jx1GtUD2ecYN66ei58cic5j2usCJ0xpnmKSCJQ1aW+/v+BqnqBqtZR4S2yWqcl0qddOvPW1pMIMjpCu0HONFJjjGmGInVF0GyM6dmKRZv3U1JeVfdBuWc7y1daETpjTDMUyJrFvXwzh1b4Xg8Ukd+FPrSmYUyvbCqrtf7ZQ72tCJ0xpvkK5IrgUeA3QCWAqn4N/CSUQTUleTktSIpz19891Ka/U4TOuoeMMc1QIIkgWVWPvmOqnn6S6JLgcTOiWxbz1tVRgA6OFKHbMBsqSsIXnDHGBEEgiWCPiHTHqTWEiPwQ2BHSqJqYU3tms3FPCVv31VNptPdkqCpzKpIaY0wzEkgi+Dnwb6C3iGwDrgeuDmlUTcyYXs6dzfVOI+0yGhIz7OYyY0yzE8gNZRtU9QwgG+itqqeo6qaQR9aEdM9OoUNmUv3jBO446DnBitAZY5qdOstQ1xCRG456DXAQWKSqS0MUV5MiIozp1Yo3l+2gstpLnLuO/Jk7GZa/7BSh69Kkllgwxpg6BdI1lIdTb6iDb5sGjAUeFZGbQhda0zI2tzVF5VUs2Liv7oN6nOErQmd3GRtjmo9AEkFLYKiq3qiqN+IkhmycNQUuC2FsTcqpPVsR73HxwapddR9UU4Ru9dtQ18L3xhjTxASSCDoD/ovYVwJdfIXnykMSVROUHO9hdPeWfLhqF1rfL/ncybDvW9hjReiMMc1DIIngOWC+iNwmIrcBnwHP+xaTaZJVQ0PljL5t2LrvEOt2F9d9UO5k53G1dQ8ZY5qHQGYN/RG4EjiAM0g8XVXvUNUSVb041AE2JeN7twHgw/q6hzI6QLvBNo3UGNNs1JsIRMQlIitUdZGq/t23HsHCcAXX1LTNSGRAhww+/KaeRADOYvb5C6Ewpu67M8Y0U8dbvN4LLBORzmGKp8kb36c1S7YeYE9xPcMj/X8ALjfMvjN8gRljTAMFMkbQDljpq0D6es0W6sCaqjP6tEEVPl5dT8nplt1h5C9gyTOw+fPwBWeMMQ1w3BvKgNtDHkUz0q99Ou0yEvnwm138KK9T3QeedhOseBXevAGmf+LceWyMMU1QIIPFc2vbwhFcUyQinNWvLXPXFtS/WE18Ckz+KxSsgi/+Gb4AjTHmBAWyMM0IEVkgIsUiUiEi1SJSz2ru0W9S/7aUV3nr7x4CpzR173Ngzt2wf3N4gjPGmBMUyBjBQ8BFwDogCfgf376YlZeTRXZaAm8vD2BW0MS7nfUK3rk59IEZY0wDBLRmsaquB9yqWq2qT+LUGopZbpcwqX9bZq/ZTWnFcdboyewEY38Da9+xm8yMMU1SIImgVETigaUi8lcR+RWQEuK4mrxJ/dtRVull9up6SlPXGHE1tO4Hb98E5fXclWyMMREQSCKY4jvuF0AJ0An4QSiDag6Gd82iVWqA3UPuODjnfijMh7l3hz44Y4w5AYHMGtqsqmWqWqiqt6vqDb6uopjmdgkT+7fh49W7OVQRwEI0nUfA0Evgi3/BrpWhD9AYYwIUyKyh0SLygYisFZENNVs4gmvqJvdvx6HKamavOc7soRpn3A5JmfDmr8DrDW1wxhgToEC6hh4H7gdOAU7y22JeTffQa0u3BfaB5Cw484+w9UtY8nRogzPGmAAFkggOquo7qrpbVffWbCGPrBnwuF2cN6g9s1cXcKC04vgfABj8U2eh+w9vg5I9oQ3QGGMCUGciEJGhIjIUmC0i94jIyJp9vv0G+P7QDlRUe3krkEFjcO4pOPt+KC+CD24NbXDGGBOA+moN3XfU6zy/5wqcHvxwmp9+7dPp2TqVWYu3cfHJXQL7UOveMOqX8OnfYPDFkDM6tEEaY0w96kwEqjounIE0VyLC94Z24K/vrmHL3lI6t0wO7INjboIV/4W3boCrPgFPfGgDNcaYOgQya+guEcn0e91CRBpdaF9E3CKyRETebGxbkXb+4A4A/F+gg8YA8ckw+V4oWA1fxHTFDmNMhAUyWDxJVQ/UvFDV/cDkIJz7OmBVENqJuA6ZSYzolsWsJdvqX9j+aL3OcorSzf0r7N8UsviMMaY+gSQCt4gk1LwQkSQgoZ7jj0tEOgJnA481pp2m5PtDOrJxTwmLtxw4/sH+Jv0FxOWUnziRJGKMMUESSCJ4BvhIRK4QkanAB8BTjTzvA8BNQNTcVTV5YDuS49288NWWE/tgRkcY91tY9x6sbva9ZMaYZiiQEhN/Be4E+gD9gD/69jWIiJwD7FbVRcc5bpqILBSRhQUFARR2i7DUBA/nDWrPm1/voKis8sQ+fPJ0aNPfKVVtRemMMWEWaBnqd1X116p6o6q+18hzjgbOE5FNwAvA6SLyTC3nnKGqeaqal52d3chThsdFwztzqLKa15ZuP7EPuj1wzt+gcBvM+XNogjPGmDoElAiCSVV/o6odVTUH+Anwsar+LNxxhMLAjhn0aZfO8yfaPQTQaTgMuwzmPww7lwc9NmOMqUvYE0E0ExF+OrwTK7cXsjz/4Ik3MP42SGrhLHhvRemMMWFSbyLwzfU/ptsmWFR1jqqeE6r2I+H8IR1IjHPxXEOuCpKzYMKdkP8VLPlP8IMzxpha1JsIVLUayPatUGYCkJ4YxzkD2/P60m0UnuigMcCgn0CXU+CD26C46Q+SG2Oav0C6hjYBn4nI70XkhpotxHE1a5eM7EJJRTUvL8w/8Q+LOKuZVZTAB78PfnDGGHOUQBLBduBN37Fpfpupw8COmQzr0oKnPt9EtbcBN4ll58Loa2HZ87Dxk+AHaIwxfuqrPgqAqt4OICJpzku1ie4BmDq6Kz9/bjEfr97NmX3bnHgDp/4alr/iFKWb/pkVpTPGhEwgRef6i8gSYAWwUkQWiUi/0IfWvJ3Vrw3tMxJ58rONDWugpijdnrXw+YPBDc4YY/wE0jU0A7hBVbuoahfgRuDR0IbV/HncLqaMzOHzb/eyemdhwxrpNQH6nAfz7oF9DUwoxhhzHIEkghRVnV3zQlXnACkhiyiKXDS8E4lxLp78dFPDG5l4N7g88Pb/s6J0xpiQCCQRbPDNGMrxbb8D7M/TAGQmx3PhsE68uiSfnQfLGtZIRgenKN36D2DV68EN0BhjCCwRTAWygVd9WyvgshDGFFWmjemGV+GxTzY0vJHhV0GbAfDOLc5ax8YYE0SBJIIzVPVaVR3q264Hzgx1YNGiU1Yy5w9qz3NfbWF/SUXDGnF74NwHoGgHzLaidMaY4AokEfwmwH2mDtPHdqe0opqZn29qeCMd85yidF8+DDu+DlZoxhhTdyIQkUki8g+gg4g86LfNBKrCFmEU6NUmjQl92zDz800UlzfiR3fGbZCUBW/+yorSGWOCpr4rgu3AQqAMWOS3vQ6cFfrQoss143pw8FAlz8zf3PBGklrAWXfBtoWweGbQYjPGxLY67yxW1WXAMhF5VlXtCqCRBnfKZGxuNo/M/ZaLT+5MWmJcwxoa+CNY8jR8+Adn4fvU1kGN0xgTe+rrGnrJ93SJiHx99Bam+KLKjWfmcqC0ksc/bcTsWxE4+36oKIX3rSidMabx6qs1dJ3vMarWC4ikAR0zmNivLY99spFLR+bQIqWB9YOye8Ep1zt3HA+5GLqOCW6gxpiYUucVgaru8Dtml6puVtXNwG5AwhFcNLphQi9KKqp4ZN63jWvo1BuhRY6zmllVeVBiM8bEpkCmj74M+E9RqfbtMw3Qq00aFwzuwFOfb2JXYQPvNgaIS4LJ98HedVaUzhjTKIEkAo+qHr4TyvfcaiI3wq/O6IXXC/e8t6ZxDfU8A/peAPPuhX2NuHPZGBPTAkkEBSJyXs0LETkDr9AuAAAXm0lEQVQf2BO6kKJf55bJXD46h/8uzm/YIvf+Jv7ZitIZYxolkEQwHfitiGwRka3AzcBVoQ0r+v389B5kJcfzxze/QRvzCzy9PZz+O1j/IXzzWvACNMbEjOMmAlX9VlVHAH2Bvqo6SlXXhz606JaeGMcNE3rx1aZ9vLtiZ+MaO+lKaDsQ3r0Fyhq49oExJmYFckWAiJwNXAP8SkRuFZFbQxtWbPhxXidy26Txp7dXcaiiuuENuT1wzgNQtBNm3xW8AI0xMSGQpSofAX4M/BJn2uiFQJcQxxUTPG4XfzivH/n7D/GPj9c1rrGOwyBvKnz1b9ixLDgBGmNiQiBXBKNU9RJgv28h+5FAp9CGFTtGdm/JD4Z2ZMa8Dazd1ci1BsbfCsmt4LkfQ/6i4ARojIl6gSSCQ77HUhFpD1QCXUMXUuz537P7kJro4X9nLcfrbcTAcVImTJkF7jh4chIsfT54QRpjolYgieBNEckE7gEWA5sA+w0TRFkp8fx2Uh8WbNrPiwu3Nq6xtv3hyjnQaTj833R473+h2moGGmPqFsisoT+q6gFV/S/O2EBvVbXB4iC7MK8jJ3fN4q63VrHtwKHjf6A+KS2dK4PhV8EXD8GzP4TSfcEJ1BgTdQIZLE4UkRtE5FXgOWCqiCSGPrTYIiLc88NBVKty8ytfN66LCJzuocl/hfMegs2fwaPjYPeq4ARrjIkqgXQN/QfoB/wDeAjoAzwdyqBiVeeWyfzv2X34dP0envmyEQvY+Bs6BS57CyoPwWNnwKo3g9OuMSZqBJIIclX1ClWd7dumAb1CHVis+unwzozplc1db69i456S4DTaaThMmwOtesGLF8Ocv9hSl8aYwwJJBEtEZETNCxE5GfisoScUkU4iMltEVonIShG57vifih0iwl9/MJAEj5tfPLeYsspG3GjmL709XP4ODLoI5twFL18C5cXBadsY06wFkghOBj4XkU0isgn4AjhNRJY3cKWyKuBGVe0DjAB+LiJ9G9BO1Gqbkci9Fw5i5fZC7no7iP36cYlwwcNw1p9h9Vvw+JmwrxGrpRljokJ9K5TVmBjME/oWvNnhe14kIquADsA3wTxPc3dm3zb8zyldeezTjYzo1pLJA9oFp2ERGHkNtO4NL1/uDCJfOBO6jQ1O+8aYZieQ6aM1K5MdArRm89vfYCKSAwwBvqzlvWkislBEFhYUFDTmNM3WTRN7M6hTJje/8jWb9wZpvKBG99Nh2mxIbQtPfx/mP2xlrI2JUYFMHz1PRNYBG4G5ODeUvdPYE4tIKvBf4HpVPaZkpqrOUNU8Vc3Lzs5u7OmapXiPi4cuGoLLJVz5n4UUlVUG9wRZ3eB/PoDcSU7l0td+DpWNWDXNGNMsBTJG8Eecvvy1qtoVGE8jBosBRCQOJwk8q6qvNqataNcpK5l//nQo3xaUcP0LS6lu7P0FR0tIgx89DafdAkufhZlnQ+GO43/OGBM1AkkElaq6F3CJiEtVZwODG3pCERHgcWCVqt7f0HZiySk9W3HbuX35aPXuxi9vWRuXC8b9xkkIu1fBjLGwdUHwz2OMaZICSQQHfN0484BnReTvODN/Gmo0MAU4XUSW+rbJjWgvJkwZ0YWLT+7MI3O/5eXG1iOqS9/znK4iTwLMnAxLng3NeYwxTYocb5lEEUnBGSh2ARcDGThdOntDH54jLy9PFy5cGK7TNVmV1V4uf3IBX2zYy4wpwxjfp01oTlS6D16+DDbOhZOvhgl3OovfGGOaFRFZpKp5xzuuzisCEekhIqNVtURVvapapapPAUuBzGAGawIT53bxyJRh9G2XzjXPLmbBphAVkkvOgp+9CiOugS8fhme+Z0XrjIli9XUNPQDUtlJKqe89EwGpCR5mXn4SHTKTuGLmAlbtCNEaxW4PTPwznP8v2DLfGTfYtTI05zLGRFR9iSBHVY+5c1hVFwI5IYvIHFfL1AT+c8VwkuM9XPzYl6FLBgBDLnZKU1SVw2Nnwjevh+5cxpiIqC8R1FdqOinYgZgT07FFMs9PG0G828VPH53Pyu0HQ3iyPKdoXes+8NIUmH2XFa0zJorUlwgWiMiVR+8UkSsAWxC3CejaKoUXrxpBUpybix/7khXbQpgM0ts55awHXwxz/wIv/gzKG7nGsjGmSahz1pCItAFmARUc+cWfB8QD31PVnWGJEJs1dDxb9pZy0aPzOXiokkd+NoxTerYK3clU4ct/w3u/dcpaX/Scc4eyMabJafSsIVXdpaqjgNtxykpsAm5X1ZHhTALm+Dq3TOa/V4+iY4skLnvyK2YtyQ/dyURgxHSY8ioU74QZ4+Dbj0N3PmNMyAVSdG62qv7Dt9n/8U1U24xEXpo+krycFvzqxWX8a856jnePSKN0GwtXzob0DvDMD+CLf1rROmOaqUDuLDbNRHpiHE9NHc45A9vx13fXcN0LSzlUEaSFbWqT1RWueB96n+10Fb16JezbELrzGWNCwhJBlEnwuHnwJ0P4f2fl8sbX2/n+w5+zdV9pCE+YChf+B8b9L6x4FR4cAk9/D1a9AdVBrpZqjAmJ45aYaApssLhhZq/ezbUvLMHtEu67cFDoSlLUKNwBS56GRTOhcBuktYMhU2DYpZDRMbTnNsYcI9DBYksEUW7TnhKufnYxq3YUcsnILvx2ch8S49yhPWl1Faz/ABY+Aes+cAaYe54FeVOhx3hwhfj8xhjAEoHxU15VzV/fXcPjn26kV5tU/vbjwfRrnxGek+/fDIufgsVPQ8luyOjsXCEMmQJpIb5CMSbGWSIwx5i3toAbX17G/pIKrhzTjevG9wz91UGNqgpY85ZzlbBxHrg80Psc5yqh6xjnqsEYE1SWCEytDpRW8Ke3VvHyonxyWiZz1/cGMKpHCG9Aq82e9bDoSWdFtEP7oWUPGHaZc9dyclZ4YzEmilkiMPX6bP0efjtrOZv3lnLOwHbcMqk3HVskhzeIyjL45jXnKmHrfHAnQL8LnKuETifbVYIxjWSJwBxXWWU1/5rzLTPmfYtX4X9O6crVY7uTlhgX/mB2rYSFT8KyF6CiCFr3dRLCwB9BYpjGM4yJMpYITMC2HzjEPe+tYdaSbbRMiWfamG5MGdmF5PgIrEpWXgwr/gsLH4cdyyAuGQb80EkK7YeEPx5jmjFLBOaELdt6gHvfX8Mn6/ZEPiEAbFvsdBut+C9UljqJYNjlTmKIT4lMTMY0I5YITIMt2ryfv3+0jnlrC8hMjuOnwztzycgc2mbUt0RFCJUdhK9fggWPQ8EqSEiHgT+GvMuhTb/IxGRMM2CJwDTaos37eXTeBt7/ZicuESYPaMelo3IY2jkTicRArips/dK5Slg5C6oroNMIp9sod6KNJRhzFEsEJmi27ivlqc838eKCrRSVV9GzdSo/yuvEBUM6kJ2WEJmgSvbCsuecpFBT6C6ru9N9VLO1GwgJaZGJz5gmwBKBCbri8ireXLadlxZuZfGWA3hcwrjerTlnYDvG92lDakIExhK8XtjyOWyZD9uXwPalUFizHoM4i+f4J4e2AyA+zNNkjYkQSwQmpNbvLuLlhfnMWrKN3UXlxHtcnNYrm7MHtOP0Pq1Jj8QU1BrFu52EsH2Jb1sMxbuc98QF2X18iWEwtB/qjDPERWj8w5gQskRgwsLrVRZt2c9bX+/g3RU72VlYhtslDOvcgtNyszmtVzb92qdHZkzBX+EOv8TgSw6le533XB7nvgX/K4fWfcETH9mYjWkkSwQm7LxeZcnW/Xy0ajdz1xawcnshANlpCYzq3pKTcrIY3jWLHtmpuFwRTgyqcDD/qOSwBMoOOO+7450rBf/kkN0b3BG80jHmBFkiMBG3u7CMeev2MHdtAfM37KWgqByAFslx5OVkcVJOCwZ0yKRfh/TIdiXVUIX9m76bGHYsg3InoeFJdMYY/JNDq15WVts0WZYITJOiqmzeW8pXm/axYOM+Fmzax6a9R1ZO69oqhX7t0xnQIYN+7TPo2SaV1mkJke9S8nqdWUlHJ4fKEud9VxyktfXb2tX+mJhptZNM2FkiME3enuJyVmw7yIptB1m+7SArthWy7cChw++nJXjo0SaVnq1T6dk6jR6tU+ncMpkOmUnhK59dG2817FnnJIU9a6BoJxTtOPJYdvDYz3gS608UNY823dUEkSUC0yztK6lg9c5C1u8uZt2uYtbtLmL97hL2FJd/57g26Ql0zkqmU4tkOmYl06lFEu0ykmiTnkDr9ETSEz2Ru5qoKIXinccmiCK/fYU7jlxV+ItPPSpB1JIsUtvaFFgTkCadCERkIvB3wA08pqp313e8JQKzv6SCbwuK2bq/lC17DzmP+0rJ31fKjsIyjv5nnBTnPpwU2qQn0jotgayUeLJS4mmRXPMYR4uUeDKT4vC4XeH/UuVFdSSLox6ryo79bEKGcyd1QqqTPA4/pp34axvjiFpNNhGIiBtYC5wJ5AMLgItU9Zu6PmOJwNSnvKqaHQfK2FlYxq7CMnYXlrOrsIxdRb5H375DldV1tpGRFEeL5DjSk+JITfCQmuAhLTGOtETneWqi5/DztEQPKfEekuLdJMW5SYxzkxTve4xz4w7mjChVZyZTbQmirBAqip2EUlEMFSVO9daKIudR6/6+3+FJOiqhpNX/Oi7FmT3lSXBmV9VsnvjvvnbH+46Jc9aacMeDKwIJN4YFmggiUVZyOLBeVTcAiMgLwPlAnYnAmPokeNzktEohp1X9FUkPVVSzv7TC2Uoq2Vdawf6SmtcV7CutpKiskuKyKraUlFJUVuW8Lq/CewJ/L8W7XSTGub6THBLj3CR4XMR7XMS5XcS5hTi3i3i3/z4XcR4h3u332i2+91PwuHridvXCnSa4MwS3CG6Xs7lcgsfl7HO5BI+AWyuIryohrroET1UpcVUleKpKcFeV4Kl0Ht2VJUhlMa6KYlyVxUhFCVJRjBTuQiq/dZ5XOPuDwuWpJ1EEkFxcbhC3047L7dwg6PK9FrffPo/fse7vPq/t88drM6kFtOoZnJ9BExSJRNAB2Or3Oh84OQJxmBiTFO8mKT6J9plJJ/Q5VaW0opri8iqKyqooLq+iuKyKsspqDvm28prnFV4OVVZT5tucfb5jqrwUl1dRWe2lskqprPZSUe11XlcrlVXO64pq7zFdXcHjATJ8W+AEL8mUk0IZSVJOHFUkUEUcVcRTSZxUEU8V8VJFolT53q8kXqoP70+gkjitJqHaOf47n6fa91hBHCW+/c77cVQePs6FFxdePL5HF17cfo+h8qVrCL9OvBXhyNWe/xCU/zWg/9jUd64NAzi+Nk9cehKdW4Z2TCgSiaC2b33MP3sRmQZMA+jcuXOoYzKmTiJCSoKHlAQPbdLDc85qr1+iqPIlimov1V6lyqt4Van2+m1+r72+Y6r1yHPvUcdU+9pw2gLUeVRVFA4/B/Cqourbh/NcffvU7/2azzrH6uH3UCgHDnm/+75/2zXU71fBd/dT637/d9SruKhG1IuoF5dW48ILWuUkDa1GvF6Ealx65NGFF/FWH/ns4f3VuLxOGyXudPKSsvxi0FoiqC/m2o8/9jffseI9oe9Oi0QiyAc6+b3uCGw/+iBVnQHMAGeMIDyhGdM0OF0+7shOkzUxIxIjNwuAniLSVUTigZ8Ar0cgDmOMMUTgikBVq0TkF8B7ONNHn1DVleGOwxhjjCMii9Gq6tvA25E4tzHGmO+ySb3GGBPjLBEYY0yMs0RgjDExzhKBMcbEOEsExhgT45pFGWoRKQA2N/DjrYA9QQynObDvHBvsO0e/xn7fLqqafbyDmkUiaAwRWRhI9b1oYt85Nth3jn7h+r7WNWSMMTHOEoExxsS4WEgEMyIdQATYd44N9p2jX1i+b9SPERhjjKlfLFwRGGOMqUdUJwIRmSgia0RkvYjcEul4QklEOonIbBFZJSIrReS6SMcULiLiFpElIvJmpGMJBxHJFJFXRGS177/3yEjHFGoi8ivfv+sVIvK8iCRGOqZgE5EnRGS3iKzw25clIh+IyDrfY4tQnDtqE4GIuIF/ApOAvsBFItI3slGFVBVwo6r2AUYAP4/y7+vvOmBVpIMIo78D76pqb2AQUf7dRaQDcC2Qp6r9ccrX/ySyUYXETGDiUftuAT5S1Z7AR77XQRe1iQAYDqxX1Q2qWgG8AJwf4ZhCRlV3qOpi3/MinF8OHSIbVeiJSEfgbOCxSMcSDiKSDowBHgdQ1QpVPRDZqMLCAySJiAdIppZVDZs7VZ0H7Dtq9/nAU77nTwEXhOLc0ZwIOgBb/V7nEwO/GAFEJAcYAnwZ2UjC4gHgJgjhyuVNSzegAHjS1x32mIikRDqoUFLVbcC9wBZgB3BQVd+PbFRh00ZVd4Dzxx7QOhQnieZEILXsi/opUiKSCvwXuF5VCyMdTyiJyDnAblVdFOlYwsgDDAUeVtUhQAkh6i5oKnz94ucDXYH2QIqI/CyyUUWXaE4E+UAnv9cdicLLSX8iEoeTBJ5V1VcjHU8YjAbOE5FNOF1/p4vIM5ENKeTygXxVrbnaewUnMUSzM4CNqlqgqpXAq8CoCMcULrtEpB2A73F3KE4SzYlgAdBTRLqKSDzO4NLrEY4pZEREcPqNV6nq/ZGOJxxU9Teq2lFVc3D++36sqlH9l6Kq7gS2ikiub9d44JsIhhQOW4ARIpLs+3c+nigfIPfzOnCp7/mlwGuhOElE1iwOB1WtEpFfAO/hzDJ4QlVXRjisUBoNTAGWi8hS377f+taHNtHll8Czvj9wNgCXRziekFLVL0XkFWAxzuy4JUThHcYi8jwwFmglIvnAbcDdwEsicgVOQrwwJOe2O4uNMSa2RXPXkDHGmABYIjDGmBhnicAYY2KcJQJjjIlxlgiMMSbGWSIwxpgYZ4nANBu+8svX+L1u75tfHopzXSAit4ai7YYQkTkiUuci5iJyr4icHs6YTPSwRGCak0zgcCJQ1e2q+sMQnesm4F8hajsU/kGU1xwyoWOJwDQndwPdRWSpiNwjIjk1i3iIyGUi8n8i8oaIbBSRX4jIDb4KnfNFJMt3XHcReVdEFonIJyLS++iTiEgvoFxV9/heX+hbEGWZiMzz7XP7YlggIl+LyFV+n79JRJb7jr/bt2+wL46vRWRWzQIjvr/0/yIiX4nIWhE51bc/SURe8B3/IpDkd96ZvniWi8ivAFR1M9BSRNqG6odvolfUlpgwUekWoL+qDobD5bb99ccpv50IrAduVtUhIvI34BKcktUzgOmquk5ETsb5q//oLpXROOUMatwKnKWq20Qk07fvCpxyyCeJSALwmYi8D/TGqRl/sqqW1iQg4D/AL1V1rojcgVM+4Hrfex5VHS4ik337zwCuBkpVdaCIDPSLZzDQwbdAC37x4DtmNE7hQWMCZonARJPZvkV5ikTkIPCGb/9yYKCvRPco4GWndhkACbW00w6n5n+Nz4CZIvISTuVLgAm+Nmu6pjKAnji/xJ9U1VIAVd0nIhlApqrO9R37FPCyX/s1bS4CcnzPxwAP+tr4WkS+9u3fAHQTkX8AbwH+dfl345RpNuaEWCIw0aTc77nX77UX59+6CzhQc0VRj0M4v9gBUNXpvquHs4GlIjIYZ72LX6rqe/4fFJGJnPi6FzVxVvPd/yePaUdV94vIIOAs4OfAj4CpvrcTfbEbc0JsjMA0J0VAWkM/7FuoZ6OIXAhO6W7fL9WjrQJ61LwQke6q+qWq3grswVnn4j3gat8aEIhIL99KYe8DU0Uk2bc/S1UPAvtr+v9xqsTOpX7zgIt9bfQHBvqetwJcqvpf4Pd8dy2CXsAKjDlBdkVgmg1V3Ssin/kGiN8B/tmAZi4GHhaR3wFxOAvaLDvqmHnAfSIi6pTnvUdEeuJcBXzkO/5rnG6cxb4a+QXABar6ru+KYaGIVABvA7/FqSX/iC9BBFI6+mGc5Si/BpYCX/n2d/Dtr/kj7jdweFGiHsDCE/2BGGNlqI2phYj8HXhDVT+MdCyBEJHvAUNV9feRjsU0P9Y1ZEzt7gKSIx3ECfAA90U6CNM82RWBMcbEOLsiMMaYGGeJwBhjYpwlAmOMiXGWCIwxJsZZIjDGmBj3/wH7pVXEoT8/WgAAAABJRU5ErkJggg==\n",
      "text/plain": [
       "<Figure size 432x288 with 1 Axes>"
      ]
     },
     "metadata": {
      "needs_background": "light"
     },
     "output_type": "display_data"
    }
   ],
   "source": [
    "# Generate plots \n",
    "fig = plt.figure()\n",
    "ax = fig.add_subplot(111)\n",
    "ax.plot(t, Q_exact, linestyle = '-', label = \"exact\")\n",
    "\n",
    "# plot approximate solution (use discrete points with no connecting line)\n",
    "ax.plot(t_approx, Q_approx, linestyle = '-', label = \"approximate\")\n",
    "\n",
    "plt.legend()\n",
    "plt.xlabel(\"time (seconds)\")\n",
    "plt.ylabel(\"Capacitor charge (Coulomb)\")"
   ]
  },
  {
   "cell_type": "code",
   "execution_count": 7,
   "metadata": {},
   "outputs": [],
   "source": [
    "# Write a function to calculate the cumulative error\n",
    "# hint, try reading the help file on np.sum\n",
    "\n",
    "def cumulative_error(dt, t_final, R, C, Q0):\n",
    "    approx = np.sum([Q_approx])\n",
    "    exact = np.sum([Q_exact])\n",
    "    error = abs(approx - exact)\n",
    "    return error\n",
    "\n",
    "for ii in range(10):\n",
    "    if ii == 0.0:\n",
    "        dt = 0.01"
   ]
  },
  {
   "cell_type": "code",
   "execution_count": null,
   "metadata": {},
   "outputs": [],
   "source": []
  },
  {
   "cell_type": "code",
   "execution_count": null,
   "metadata": {},
   "outputs": [],
   "source": []
  },
  {
   "cell_type": "code",
   "execution_count": null,
   "metadata": {},
   "outputs": [],
   "source": []
  }
 ],
 "metadata": {
  "kernelspec": {
   "display_name": "Python 3",
   "language": "python",
   "name": "python3"
  },
  "language_info": {
   "codemirror_mode": {
    "name": "ipython",
    "version": 3
   },
   "file_extension": ".py",
   "mimetype": "text/x-python",
   "name": "python",
   "nbconvert_exporter": "python",
   "pygments_lexer": "ipython3",
<<<<<<< HEAD
   "version": "3.6.7"
=======
   "version": "3.6.6"
>>>>>>> upstream/master
  }
 },
 "nbformat": 4,
 "nbformat_minor": 2
}
